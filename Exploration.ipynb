{
 "cells": [
  {
   "cell_type": "code",
   "execution_count": 47,
   "metadata": {},
   "outputs": [
    {
     "data": {
      "text/plain": [
       "<module 'Utils' from '/home/vincent/vincent/sharedwork/data/market-hedging/Utils.py'>"
      ]
     },
     "execution_count": 47,
     "metadata": {},
     "output_type": "execute_result"
    }
   ],
   "source": [
    "from importlib import reload\n",
    "\n",
    "import DataProvider\n",
    "import Utils\n",
    "\n",
    "reload(DataProvider)\n",
    "reload(Utils)"
   ]
  },
  {
   "cell_type": "code",
   "execution_count": 43,
   "metadata": {},
   "outputs": [],
   "source": [
    "start_date = \"2013-10-01\"\n",
    "end_date = \"2018-10-01\"\n",
    "\n",
    "ref_name = \"SPY\"\n",
    "\n",
    "df = DataProvider.get_random_securities(10, start_date, end_date)\n",
    "df_ref = DataProvider.get_securities(ref_name, start_date, end_date)\n",
    "\n",
    "df = Utils.attach_return(df, \"symbol\")\n",
    "df_ref = Utils.attach_return(df_ref, \"symbol\")"
   ]
  },
  {
   "cell_type": "code",
   "execution_count": 44,
   "metadata": {},
   "outputs": [],
   "source": [
    "df0 = df.reset_index().merge(\n",
    "    df_ref.reset_index().drop(\"symbol\", axis=1),\n",
    "    on=\"date\",\n",
    "    suffixes=[\"\", \"_ref\"]\n",
    ").dropna().set_index(df.index.names)"
   ]
  },
  {
   "cell_type": "code",
   "execution_count": 50,
   "metadata": {},
   "outputs": [
    {
     "name": "stdout",
     "output_type": "stream",
     "text": [
      "CPU times: user 7 µs, sys: 1e+03 ns, total: 8 µs\n",
      "Wall time: 13.4 µs\n"
     ]
    }
   ],
   "source": [
    "%time\n",
    "df = Utils.attach_beta(df0, \"return_ref\", \"return\", \"symbol\", 15, numpy=False)"
   ]
  },
  {
   "cell_type": "code",
   "execution_count": 51,
   "metadata": {},
   "outputs": [
    {
     "name": "stdout",
     "output_type": "stream",
     "text": [
      "CPU times: user 3 µs, sys: 0 ns, total: 3 µs\n",
      "Wall time: 5.25 µs\n"
     ]
    }
   ],
   "source": [
    "%time\n",
    "df = Utils.attach_beta(df0, \"return_ref\", \"return\", \"symbol\", 15, numpy=True)"
   ]
  },
  {
   "cell_type": "code",
   "execution_count": 36,
   "metadata": {},
   "outputs": [
    {
     "data": {
      "text/html": [
       "<div>\n",
       "<style scoped>\n",
       "    .dataframe tbody tr th:only-of-type {\n",
       "        vertical-align: middle;\n",
       "    }\n",
       "\n",
       "    .dataframe tbody tr th {\n",
       "        vertical-align: top;\n",
       "    }\n",
       "\n",
       "    .dataframe thead th {\n",
       "        text-align: right;\n",
       "    }\n",
       "</style>\n",
       "<table border=\"1\" class=\"dataframe\">\n",
       "  <thead>\n",
       "    <tr style=\"text-align: right;\">\n",
       "      <th></th>\n",
       "      <th></th>\n",
       "      <th>adjClose</th>\n",
       "      <th>return</th>\n",
       "      <th>adjClose_ref</th>\n",
       "      <th>return_ref</th>\n",
       "      <th>beta</th>\n",
       "    </tr>\n",
       "    <tr>\n",
       "      <th>symbol</th>\n",
       "      <th>date</th>\n",
       "      <th></th>\n",
       "      <th></th>\n",
       "      <th></th>\n",
       "      <th></th>\n",
       "      <th></th>\n",
       "    </tr>\n",
       "  </thead>\n",
       "  <tbody>\n",
       "    <tr>\n",
       "      <th>CRCM</th>\n",
       "      <th>2017-02-07</th>\n",
       "      <td>9.340000</td>\n",
       "      <td>0.104019</td>\n",
       "      <td>221.683574</td>\n",
       "      <td>0.000044</td>\n",
       "      <td>0.000000</td>\n",
       "    </tr>\n",
       "    <tr>\n",
       "      <th>KFRC</th>\n",
       "      <th>2017-02-07</th>\n",
       "      <td>20.621284</td>\n",
       "      <td>-0.038288</td>\n",
       "      <td>221.683574</td>\n",
       "      <td>0.000044</td>\n",
       "      <td>0.000000</td>\n",
       "    </tr>\n",
       "    <tr>\n",
       "      <th>TRV</th>\n",
       "      <th>2017-02-07</th>\n",
       "      <td>113.155718</td>\n",
       "      <td>0.000765</td>\n",
       "      <td>221.683574</td>\n",
       "      <td>0.000044</td>\n",
       "      <td>0.000000</td>\n",
       "    </tr>\n",
       "    <tr>\n",
       "      <th>VDTH</th>\n",
       "      <th>2017-02-07</th>\n",
       "      <td>9.460000</td>\n",
       "      <td>-0.002110</td>\n",
       "      <td>221.683574</td>\n",
       "      <td>0.000044</td>\n",
       "      <td>0.000000</td>\n",
       "    </tr>\n",
       "    <tr>\n",
       "      <th>VRTS</th>\n",
       "      <th>2017-02-07</th>\n",
       "      <td>106.758671</td>\n",
       "      <td>0.010176</td>\n",
       "      <td>221.683574</td>\n",
       "      <td>0.000044</td>\n",
       "      <td>0.000000</td>\n",
       "    </tr>\n",
       "    <tr>\n",
       "      <th>UZV</th>\n",
       "      <th>2017-02-08</th>\n",
       "      <td>18.750000</td>\n",
       "      <td>0.005362</td>\n",
       "      <td>221.974065</td>\n",
       "      <td>0.001310</td>\n",
       "      <td>0.000000</td>\n",
       "    </tr>\n",
       "    <tr>\n",
       "      <th>CRCM</th>\n",
       "      <th>2017-02-08</th>\n",
       "      <td>9.830000</td>\n",
       "      <td>0.052463</td>\n",
       "      <td>221.974065</td>\n",
       "      <td>0.001310</td>\n",
       "      <td>-40.701161</td>\n",
       "    </tr>\n",
       "    <tr>\n",
       "      <th>KFRC</th>\n",
       "      <th>2017-02-08</th>\n",
       "      <td>23.374009</td>\n",
       "      <td>0.133489</td>\n",
       "      <td>221.974065</td>\n",
       "      <td>0.001310</td>\n",
       "      <td>135.609853</td>\n",
       "    </tr>\n",
       "    <tr>\n",
       "      <th>TRV</th>\n",
       "      <th>2017-02-08</th>\n",
       "      <td>113.203763</td>\n",
       "      <td>0.000425</td>\n",
       "      <td>221.974065</td>\n",
       "      <td>0.001310</td>\n",
       "      <td>-0.268617</td>\n",
       "    </tr>\n",
       "    <tr>\n",
       "      <th>VDTH</th>\n",
       "      <th>2017-02-08</th>\n",
       "      <td>9.530000</td>\n",
       "      <td>0.007400</td>\n",
       "      <td>221.974065</td>\n",
       "      <td>0.001310</td>\n",
       "      <td>7.507097</td>\n",
       "    </tr>\n",
       "  </tbody>\n",
       "</table>\n",
       "</div>"
      ],
      "text/plain": [
       "                     adjClose    return  adjClose_ref  return_ref        beta\n",
       "symbol date                                                                  \n",
       "CRCM   2017-02-07    9.340000  0.104019    221.683574    0.000044    0.000000\n",
       "KFRC   2017-02-07   20.621284 -0.038288    221.683574    0.000044    0.000000\n",
       "TRV    2017-02-07  113.155718  0.000765    221.683574    0.000044    0.000000\n",
       "VDTH   2017-02-07    9.460000 -0.002110    221.683574    0.000044    0.000000\n",
       "VRTS   2017-02-07  106.758671  0.010176    221.683574    0.000044    0.000000\n",
       "UZV    2017-02-08   18.750000  0.005362    221.974065    0.001310    0.000000\n",
       "CRCM   2017-02-08    9.830000  0.052463    221.974065    0.001310  -40.701161\n",
       "KFRC   2017-02-08   23.374009  0.133489    221.974065    0.001310  135.609853\n",
       "TRV    2017-02-08  113.203763  0.000425    221.974065    0.001310   -0.268617\n",
       "VDTH   2017-02-08    9.530000  0.007400    221.974065    0.001310    7.507097"
      ]
     },
     "execution_count": 36,
     "metadata": {},
     "output_type": "execute_result"
    }
   ],
   "source": [
    "df.head(10)"
   ]
  },
  {
   "cell_type": "code",
   "execution_count": 7,
   "metadata": {},
   "outputs": [
    {
     "data": {
      "image/png": "[encoded data removed]",
      "text/plain": [
       "<matplotlib.figure.Figure at 0x7fb484e90e80>"
      ]
     },
     "metadata": {},
     "output_type": "display_data"
    }
   ],
   "source": [
    "p = df.reset_index(\"symbol\").groupby(\"symbol\")[\"beta\"].plot()"
   ]
  }
 ],
 "metadata": {
  "kernelspec": {
   "display_name": "Python 3",
   "language": "python",
   "name": "python3"
  },
  "language_info": {
   "codemirror_mode": {
    "name": "ipython",
    "version": 3
   },
   "file_extension": ".py",
   "mimetype": "text/x-python",
   "name": "python",
   "nbconvert_exporter": "python",
   "pygments_lexer": "ipython3",
   "version": "3.6.6"
  }
 },
 "nbformat": 4,
 "nbformat_minor": 2
}
