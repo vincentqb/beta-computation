{
 "cells": [
  {
   "cell_type": "code",
   "execution_count": 1,
   "metadata": {},
   "outputs": [
    {
     "data": {
      "text/plain": [
       "<module 'Betas' from '/home/vincent/vincent/sharedwork/data/market-hedging/Betas.py'>"
      ]
     },
     "execution_count": 1,
     "metadata": {},
     "output_type": "execute_result"
    }
   ],
   "source": [
    "from importlib import reload\n",
    "\n",
    "import DataProvider\n",
    "import Betas\n",
    "\n",
    "reload(DataProvider)\n",
    "reload(Betas)"
   ]
  },
  {
   "cell_type": "markdown",
   "metadata": {},
   "source": [
    "# Compute betas"
   ]
  },
  {
   "cell_type": "code",
   "execution_count": 2,
   "metadata": {},
   "outputs": [],
   "source": [
    "start_date = \"2013-10-01\"\n",
    "end_date = \"2018-10-01\"\n",
    "\n",
    "n_stocks = 10\n",
    "ref_name = \"SPY\"\n",
    "\n",
    "df = DataProvider.get_random_securities(n_stocks, start_date, end_date)\n",
    "df_ref = DataProvider.get_securities(ref_name, start_date, end_date)\n",
    "\n",
    "df = Betas.attach_return(df, \"symbol\")\n",
    "df_ref = Betas.attach_return(df_ref, \"symbol\")"
   ]
  },
  {
   "cell_type": "code",
   "execution_count": 3,
   "metadata": {},
   "outputs": [],
   "source": [
    "df0 = df.reset_index().merge(\n",
    "    df_ref.reset_index().drop(\"symbol\", axis=1),\n",
    "    on=\"date\",\n",
    "    suffixes=[\"\", \"_ref\"]\n",
    ").dropna().set_index(df.index.names)"
   ]
  },
  {
   "cell_type": "code",
   "execution_count": 4,
   "metadata": {},
   "outputs": [
    {
     "name": "stdout",
     "output_type": "stream",
     "text": [
      "CPU times: user 2 µs, sys: 0 ns, total: 2 µs\n",
      "Wall time: 3.58 µs\n"
     ]
    }
   ],
   "source": [
    "%time\n",
    "df = Betas.attach_beta(df0, \"return_ref\", \"return\", \"symbol\", 15, numpy=False)"
   ]
  },
  {
   "cell_type": "code",
   "execution_count": 5,
   "metadata": {},
   "outputs": [
    {
     "name": "stdout",
     "output_type": "stream",
     "text": [
      "CPU times: user 2 µs, sys: 0 ns, total: 2 µs\n",
      "Wall time: 3.81 µs\n"
     ]
    }
   ],
   "source": [
    "%time\n",
    "df = Betas.attach_beta(df0, \"return_ref\", \"return\", \"symbol\", 15, numpy=True)"
   ]
  },
  {
   "cell_type": "code",
   "execution_count": 6,
   "metadata": {},
   "outputs": [
    {
     "data": {
      "text/html": [
       "<div>\n",
       "<style scoped>\n",
       "    .dataframe tbody tr th:only-of-type {\n",
       "        vertical-align: middle;\n",
       "    }\n",
       "\n",
       "    .dataframe tbody tr th {\n",
       "        vertical-align: top;\n",
       "    }\n",
       "\n",
       "    .dataframe thead th {\n",
       "        text-align: right;\n",
       "    }\n",
       "</style>\n",
       "<table border=\"1\" class=\"dataframe\">\n",
       "  <thead>\n",
       "    <tr style=\"text-align: right;\">\n",
       "      <th></th>\n",
       "      <th></th>\n",
       "      <th>adjClose</th>\n",
       "      <th>return</th>\n",
       "      <th>adjClose_ref</th>\n",
       "      <th>return_ref</th>\n",
       "      <th>beta</th>\n",
       "    </tr>\n",
       "    <tr>\n",
       "      <th>symbol</th>\n",
       "      <th>date</th>\n",
       "      <th></th>\n",
       "      <th></th>\n",
       "      <th></th>\n",
       "      <th></th>\n",
       "      <th></th>\n",
       "    </tr>\n",
       "  </thead>\n",
       "  <tbody>\n",
       "    <tr>\n",
       "      <th>BJRI</th>\n",
       "      <th>2010-01-05</th>\n",
       "      <td>18.775459</td>\n",
       "      <td>0.011200</td>\n",
       "      <td>95.339988</td>\n",
       "      <td>0.002647</td>\n",
       "      <td>0.000030</td>\n",
       "    </tr>\n",
       "    <tr>\n",
       "      <th>SSRI</th>\n",
       "      <th>2010-01-05</th>\n",
       "      <td>23.360000</td>\n",
       "      <td>0.026362</td>\n",
       "      <td>95.339988</td>\n",
       "      <td>0.002647</td>\n",
       "      <td>0.000070</td>\n",
       "    </tr>\n",
       "    <tr>\n",
       "      <th>KOF</th>\n",
       "      <th>2010-01-05</th>\n",
       "      <td>54.731673</td>\n",
       "      <td>-0.015749</td>\n",
       "      <td>95.339988</td>\n",
       "      <td>0.002647</td>\n",
       "      <td>-0.000042</td>\n",
       "    </tr>\n",
       "    <tr>\n",
       "      <th>PLPC</th>\n",
       "      <th>2010-01-05</th>\n",
       "      <td>38.591556</td>\n",
       "      <td>0.000000</td>\n",
       "      <td>95.339988</td>\n",
       "      <td>0.002647</td>\n",
       "      <td>-0.000000</td>\n",
       "    </tr>\n",
       "    <tr>\n",
       "      <th>MRTN</th>\n",
       "      <th>2010-01-05</th>\n",
       "      <td>6.485652</td>\n",
       "      <td>-0.014045</td>\n",
       "      <td>95.339988</td>\n",
       "      <td>0.002647</td>\n",
       "      <td>-0.000037</td>\n",
       "    </tr>\n",
       "    <tr>\n",
       "      <th>JBN</th>\n",
       "      <th>2010-01-05</th>\n",
       "      <td>8.320758</td>\n",
       "      <td>-0.003036</td>\n",
       "      <td>95.339988</td>\n",
       "      <td>0.002647</td>\n",
       "      <td>-0.000008</td>\n",
       "    </tr>\n",
       "    <tr>\n",
       "      <th>JHG</th>\n",
       "      <th>2010-01-05</th>\n",
       "      <td>28.765792</td>\n",
       "      <td>0.032538</td>\n",
       "      <td>95.339988</td>\n",
       "      <td>0.002647</td>\n",
       "      <td>0.000086</td>\n",
       "    </tr>\n",
       "    <tr>\n",
       "      <th>PXD</th>\n",
       "      <th>2010-01-05</th>\n",
       "      <td>50.618487</td>\n",
       "      <td>0.000392</td>\n",
       "      <td>95.339988</td>\n",
       "      <td>0.002647</td>\n",
       "      <td>0.000001</td>\n",
       "    </tr>\n",
       "    <tr>\n",
       "      <th>BJRI</th>\n",
       "      <th>2010-01-06</th>\n",
       "      <td>18.765556</td>\n",
       "      <td>-0.000527</td>\n",
       "      <td>95.407111</td>\n",
       "      <td>0.000704</td>\n",
       "      <td>6.035429</td>\n",
       "    </tr>\n",
       "    <tr>\n",
       "      <th>SSRI</th>\n",
       "      <th>2010-01-06</th>\n",
       "      <td>23.680000</td>\n",
       "      <td>0.013699</td>\n",
       "      <td>95.407111</td>\n",
       "      <td>0.000704</td>\n",
       "      <td>6.517125</td>\n",
       "    </tr>\n",
       "  </tbody>\n",
       "</table>\n",
       "</div>"
      ],
      "text/plain": [
       "                    adjClose    return  adjClose_ref  return_ref      beta\n",
       "symbol date                                                               \n",
       "BJRI   2010-01-05  18.775459  0.011200     95.339988    0.002647  0.000030\n",
       "SSRI   2010-01-05  23.360000  0.026362     95.339988    0.002647  0.000070\n",
       "KOF    2010-01-05  54.731673 -0.015749     95.339988    0.002647 -0.000042\n",
       "PLPC   2010-01-05  38.591556  0.000000     95.339988    0.002647 -0.000000\n",
       "MRTN   2010-01-05   6.485652 -0.014045     95.339988    0.002647 -0.000037\n",
       "JBN    2010-01-05   8.320758 -0.003036     95.339988    0.002647 -0.000008\n",
       "JHG    2010-01-05  28.765792  0.032538     95.339988    0.002647  0.000086\n",
       "PXD    2010-01-05  50.618487  0.000392     95.339988    0.002647  0.000001\n",
       "BJRI   2010-01-06  18.765556 -0.000527     95.407111    0.000704  6.035429\n",
       "SSRI   2010-01-06  23.680000  0.013699     95.407111    0.000704  6.517125"
      ]
     },
     "execution_count": 6,
     "metadata": {},
     "output_type": "execute_result"
    }
   ],
   "source": [
    "df.head(10)"
   ]
  },
  {
   "cell_type": "markdown",
   "metadata": {},
   "source": [
    "For faster implementation, here are some alternative:\n",
    "\n",
    "* Each regression can be computed in parallel. Dask is a library that implements numpy/pandas in parallel.\n",
    "* Each security can be computed in parallel, and the least square solution for each security can be found by gradient descent using an exponentially decaying momentum in the gradient, by going through the points in a chronological order. This has the advantage that the data only has to be read once, and does not need to be loaded completely in memory, but this may affect the betas obtained."
   ]
  },
  {
   "cell_type": "markdown",
   "metadata": {},
   "source": [
    "# Analyse betas"
   ]
  },
  {
   "cell_type": "code",
   "execution_count": 7,
   "metadata": {},
   "outputs": [
    {
     "data": {
      "text/html": [
       "<div>\n",
       "<style scoped>\n",
       "    .dataframe tbody tr th:only-of-type {\n",
       "        vertical-align: middle;\n",
       "    }\n",
       "\n",
       "    .dataframe tbody tr th {\n",
       "        vertical-align: top;\n",
       "    }\n",
       "\n",
       "    .dataframe thead th {\n",
       "        text-align: right;\n",
       "    }\n",
       "</style>\n",
       "<table border=\"1\" class=\"dataframe\">\n",
       "  <thead>\n",
       "    <tr style=\"text-align: right;\">\n",
       "      <th></th>\n",
       "      <th>count</th>\n",
       "      <th>mean</th>\n",
       "      <th>std</th>\n",
       "      <th>min</th>\n",
       "      <th>25%</th>\n",
       "      <th>50%</th>\n",
       "      <th>75%</th>\n",
       "      <th>max</th>\n",
       "    </tr>\n",
       "    <tr>\n",
       "      <th>symbol</th>\n",
       "      <th></th>\n",
       "      <th></th>\n",
       "      <th></th>\n",
       "      <th></th>\n",
       "      <th></th>\n",
       "      <th></th>\n",
       "      <th></th>\n",
       "      <th></th>\n",
       "    </tr>\n",
       "  </thead>\n",
       "  <tbody>\n",
       "    <tr>\n",
       "      <th>BJRI</th>\n",
       "      <td>2220.0</td>\n",
       "      <td>0.948901</td>\n",
       "      <td>0.909650</td>\n",
       "      <td>-5.097867</td>\n",
       "      <td>0.527510</td>\n",
       "      <td>0.944978</td>\n",
       "      <td>1.357888</td>\n",
       "      <td>8.435321</td>\n",
       "    </tr>\n",
       "    <tr>\n",
       "      <th>IHTA</th>\n",
       "      <td>228.0</td>\n",
       "      <td>0.127236</td>\n",
       "      <td>0.592359</td>\n",
       "      <td>-1.519165</td>\n",
       "      <td>-0.059345</td>\n",
       "      <td>0.070152</td>\n",
       "      <td>0.374180</td>\n",
       "      <td>5.777805</td>\n",
       "    </tr>\n",
       "    <tr>\n",
       "      <th>JBN</th>\n",
       "      <td>2218.0</td>\n",
       "      <td>0.064836</td>\n",
       "      <td>1.046268</td>\n",
       "      <td>-6.642160</td>\n",
       "      <td>-0.173630</td>\n",
       "      <td>0.132391</td>\n",
       "      <td>0.468675</td>\n",
       "      <td>10.211698</td>\n",
       "    </tr>\n",
       "    <tr>\n",
       "      <th>JHG</th>\n",
       "      <td>2220.0</td>\n",
       "      <td>1.765099</td>\n",
       "      <td>0.929441</td>\n",
       "      <td>-8.592667</td>\n",
       "      <td>1.329833</td>\n",
       "      <td>1.773036</td>\n",
       "      <td>2.200450</td>\n",
       "      <td>14.943442</td>\n",
       "    </tr>\n",
       "    <tr>\n",
       "      <th>KOF</th>\n",
       "      <td>2220.0</td>\n",
       "      <td>0.903603</td>\n",
       "      <td>0.647903</td>\n",
       "      <td>-9.830619</td>\n",
       "      <td>0.577526</td>\n",
       "      <td>0.875155</td>\n",
       "      <td>1.222116</td>\n",
       "      <td>5.988005</td>\n",
       "    </tr>\n",
       "    <tr>\n",
       "      <th>LOB</th>\n",
       "      <td>823.0</td>\n",
       "      <td>1.037901</td>\n",
       "      <td>0.850299</td>\n",
       "      <td>-3.780962</td>\n",
       "      <td>0.552562</td>\n",
       "      <td>0.984093</td>\n",
       "      <td>1.505786</td>\n",
       "      <td>4.296377</td>\n",
       "    </tr>\n",
       "    <tr>\n",
       "      <th>MRTN</th>\n",
       "      <td>2220.0</td>\n",
       "      <td>1.240017</td>\n",
       "      <td>0.871453</td>\n",
       "      <td>-1.798046</td>\n",
       "      <td>0.752717</td>\n",
       "      <td>1.154748</td>\n",
       "      <td>1.610552</td>\n",
       "      <td>15.251647</td>\n",
       "    </tr>\n",
       "    <tr>\n",
       "      <th>PLPC</th>\n",
       "      <td>2220.0</td>\n",
       "      <td>1.168174</td>\n",
       "      <td>1.121463</td>\n",
       "      <td>-7.570449</td>\n",
       "      <td>0.510421</td>\n",
       "      <td>1.070466</td>\n",
       "      <td>1.720362</td>\n",
       "      <td>6.497879</td>\n",
       "    </tr>\n",
       "    <tr>\n",
       "      <th>PXD</th>\n",
       "      <td>2220.0</td>\n",
       "      <td>1.508413</td>\n",
       "      <td>0.957330</td>\n",
       "      <td>-8.779113</td>\n",
       "      <td>1.002061</td>\n",
       "      <td>1.487450</td>\n",
       "      <td>1.941601</td>\n",
       "      <td>7.516195</td>\n",
       "    </tr>\n",
       "    <tr>\n",
       "      <th>SSRI</th>\n",
       "      <td>1913.0</td>\n",
       "      <td>0.853945</td>\n",
       "      <td>1.794428</td>\n",
       "      <td>-5.850603</td>\n",
       "      <td>0.000070</td>\n",
       "      <td>0.875428</td>\n",
       "      <td>1.795787</td>\n",
       "      <td>11.892271</td>\n",
       "    </tr>\n",
       "  </tbody>\n",
       "</table>\n",
       "</div>"
      ],
      "text/plain": [
       "         count      mean       std       min       25%       50%       75%  \\\n",
       "symbol                                                                       \n",
       "BJRI    2220.0  0.948901  0.909650 -5.097867  0.527510  0.944978  1.357888   \n",
       "IHTA     228.0  0.127236  0.592359 -1.519165 -0.059345  0.070152  0.374180   \n",
       "JBN     2218.0  0.064836  1.046268 -6.642160 -0.173630  0.132391  0.468675   \n",
       "JHG     2220.0  1.765099  0.929441 -8.592667  1.329833  1.773036  2.200450   \n",
       "KOF     2220.0  0.903603  0.647903 -9.830619  0.577526  0.875155  1.222116   \n",
       "LOB      823.0  1.037901  0.850299 -3.780962  0.552562  0.984093  1.505786   \n",
       "MRTN    2220.0  1.240017  0.871453 -1.798046  0.752717  1.154748  1.610552   \n",
       "PLPC    2220.0  1.168174  1.121463 -7.570449  0.510421  1.070466  1.720362   \n",
       "PXD     2220.0  1.508413  0.957330 -8.779113  1.002061  1.487450  1.941601   \n",
       "SSRI    1913.0  0.853945  1.794428 -5.850603  0.000070  0.875428  1.795787   \n",
       "\n",
       "              max  \n",
       "symbol             \n",
       "BJRI     8.435321  \n",
       "IHTA     5.777805  \n",
       "JBN     10.211698  \n",
       "JHG     14.943442  \n",
       "KOF      5.988005  \n",
       "LOB      4.296377  \n",
       "MRTN    15.251647  \n",
       "PLPC     6.497879  \n",
       "PXD      7.516195  \n",
       "SSRI    11.892271  "
      ]
     },
     "execution_count": 7,
     "metadata": {},
     "output_type": "execute_result"
    }
   ],
   "source": [
    "df.groupby(\"symbol\")[\"beta\"].describe()"
   ]
  },
  {
   "cell_type": "markdown",
   "metadata": {},
   "source": [
    "There are suspicious outliers, when looking at the 25/75 percentile vs min/max."
   ]
  },
  {
   "cell_type": "code",
   "execution_count": 8,
   "metadata": {
    "scrolled": false
   },
   "outputs": [],
   "source": [
    "p = df.reset_index(\"symbol\").groupby(\"symbol\")[\"beta\"].plot()"
   ]
  },
  {
   "cell_type": "code",
   "execution_count": 9,
   "metadata": {},
   "outputs": [
    {
     "data": {
      "image/png": "[encoded data removed]",
      "text/plain": [
       "<matplotlib.figure.Figure at 0x7f8275c119e8>"
      ]
     },
     "metadata": {},
     "output_type": "display_data"
    }
   ],
   "source": [
    "p = df.reset_index(\"symbol\").groupby(\"symbol\")[\"beta\"].plot(kind=\"density\")"
   ]
  },
  {
   "cell_type": "code",
   "execution_count": 10,
   "metadata": {},
   "outputs": [
    {
     "data": {
      "image/png": "[encoded data removed]",
      "text/plain": [
       "<matplotlib.figure.Figure at 0x7f827425f588>"
      ]
     },
     "metadata": {},
     "output_type": "display_data"
    }
   ],
   "source": [
    "threshold = 10\n",
    "p = df.reset_index(\"symbol\").groupby(\"symbol\")[\"beta\"].plot(kind=\"density\", xlim=(-threshold, threshold))"
   ]
  }
 ],
 "metadata": {
  "kernelspec": {
   "display_name": "Python 3",
   "language": "python",
   "name": "python3"
  },
  "language_info": {
   "codemirror_mode": {
    "name": "ipython",
    "version": 3
   },
   "file_extension": ".py",
   "mimetype": "text/x-python",
   "name": "python",
   "nbconvert_exporter": "python",
   "pygments_lexer": "ipython3",
   "version": "3.6.6"
  }
 },
 "nbformat": 4,
 "nbformat_minor": 2
}
